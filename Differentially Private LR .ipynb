{
 "cells": [
  {
   "cell_type": "markdown",
   "metadata": {},
   "source": [
    "# HW 2: Differentially-private Logistic Regression\n",
    "\n",
    "In this assignment, we will implement a **differentially private** _logistic regression_ model using the **gradient clipping** technique. For this assignment, we will reuse the dataset we used for HW1, the telco customer churning dataset. The goal of this assignment is to understand the gradient clipping and its effect on a learning algorithm's performance.\n",
    "\n",
    "\n",
    "## Submission instruction\n",
    "- Due by 11:59pm on **Apr. 21st, 2020**\n",
    "- Complete this notebook and name it as \"*CSCI8960\\_HW2\\_{your first name}.ipynb*\".\n",
    "- Do **not** use any other 3rd party libraries unless you are asked to do so.\n",
    "- Do **not** _hardcode_ any data.\n",
    "- Feel free to modify function prototype (i.e., you can add additional input parameters or remove existing ones based on your needs)\n",
    "- Feel free to define your own functions if needed.\n",
    "- Label your graphs.\n",
    "- All the texts and labels in your graphs should be _legible_.\n",
    "\n",
    "As before, let's start by importing required libraries."
   ]
  },
  {
   "cell_type": "code",
   "execution_count": 4,
   "metadata": {},
   "outputs": [],
   "source": [
    "import numpy as np\n",
    "import pandas as pd\n",
    "from sklearn.model_selection import train_test_split\n",
    "from sklearn.preprocessing import MinMaxScaler\n",
    "from sklearn.preprocessing import LabelEncoder\n",
    "from scipy.special import expit\n",
    "import matplotlib.pyplot as plt\n",
    "\n",
    "%matplotlib inline"
   ]
  },
  {
   "cell_type": "markdown",
   "metadata": {},
   "source": [
    "The pre-processed telco customer churning dataset can be dowloaded from [here](http://cobweb.cs.uga.edu/~jwlee/datasets/churn_encoded.csv). \n",
    "\n",
    "### Q1. (10pts) Load the dataset into a DataFrame and ensure the followings:\n",
    "- add a dummy column of ones (for bias term)\n",
    "- $Y \\in \\{-1, 1\\}$\n",
    "- Split the data into train and test sets \n",
    "    - 80% for training and the rest for testing"
   ]
  },
  {
   "cell_type": "code",
   "execution_count": 5,
   "metadata": {},
   "outputs": [],
   "source": [
    "\n",
    "#-------------------------#\n",
    "#  Your code goes here.   #\n",
    "#-------------------------#\n",
    "\n",
    "churn_dataset = pd.read_csv(\"Teleco(pre-processed).csv\")\n",
    "# print(churn_dataset.shape)\n",
    "y = churn_dataset['Churn']\n",
    "\n",
    "X = churn_dataset.drop(\"Churn\",axis=1)\n",
    "# print(X.shape)\n",
    "\n",
    "encoded_y=np.empty((y.shape))\n",
    "for i in range(y.shape[0]):\n",
    "    if(y[i]==0):\n",
    "        encoded_y[i] = -1\n",
    "    else:\n",
    "        encoded_y[i] = 1\n",
    "        \n",
    "# print(encoded_y)\n",
    "        \n",
    "dummy = pd.Series(np.ones((X.shape[0],)))\n",
    "processed_features = pd.concat([dummy,X], axis=1)\n",
    "processed_features = processed_features.rename(columns={0:'dummy'})\n",
    "# print(processed_X.shape)\n",
    "\n",
    "X_train, X_test, y_train, y_test = train_test_split(processed_features, encoded_y, test_size = 0.2)\n",
    "# print(X_train)\n",
    "a=X_train.to_numpy()[0]\n",
    "# a=a.transpose()"
   ]
  },
  {
   "cell_type": "markdown",
   "metadata": {},
   "source": [
    "Recall the objective function of _logistic regression_ model:\n",
    "$$ \\underset{\\mathbf{\\beta} \\in \\mathbb{R}^{p+1}}{\\text{minimize}}\\, \\mathbb{E}[\\ell(\\beta)] \\approx \\frac{1}{n}\\sum_{i=1}^n \\log (1 + \\exp(-y_i\\mathbf{\\beta}^\\intercal\\mathbf{x}_i))\\,, $$\n",
    "and its gradient is given by\n",
    "$$ \\frac{\\partial \\ell(\\mathbf{\\beta})}{\\partial \\mathbf{\\beta}} = \\frac{1}{n}\\sum_{i=1}^n (\\sigma(y_i\\mathbf{\\beta}^\\intercal\\mathbf{x}_i)-1)y_i\\mathbf{x}_i\\,. \\qquad\\qquad (1) $$\n",
    "\n",
    "Our gradient descent algorithm performs the following updates.\n",
    "- initialize starting point $\\beta^{(0)}$\n",
    "- given location $\\beta^{(k)}$, updates the solution as follows:\n",
    "    - $\\beta^{(k+1)} = \\beta^{(k)} - \\eta_k \\nabla \\ell(\\beta^{(k)})\\,,$\n",
    "    \n",
    "For your convenient, here we provide a code for its objective and gradient. Look at the following code and make sure you understand what it is doing."
   ]
  },
  {
   "cell_type": "code",
   "execution_count": 6,
   "metadata": {},
   "outputs": [
    {
     "name": "stdout",
     "output_type": "stream",
     "text": [
      "0.6931471805599454\n",
      "8.332731580626957\n"
     ]
    }
   ],
   "source": [
    "def logres_obj(X, y, beta):\n",
    "    \"\"\"\n",
    "    returns the objective value of the logistic regression model\n",
    "    \n",
    "    Parameters:\n",
    "    ------------\n",
    "    X, y: numpy arrays representing the input dataset\n",
    "    beta: numpy array correspoinding to the parameter vector\n",
    "    \n",
    "    Output:\n",
    "    -------\n",
    "    obj: objective value (scalar)\n",
    "    \"\"\"\n",
    "    obj = np.log(1. + np.exp(-y * np.dot(X, beta)))\n",
    "    loss = np.mean(obj)\n",
    "    \n",
    "    return loss\n",
    "\n",
    "# test code assuming (train_X, train_y) represents your training dataset\n",
    "beta = np.zeros(X_train.shape[1])\n",
    "print(logres_obj(X_train, y_train, beta))\n",
    "\n",
    "beta = np.ones(X_train.shape[1])\n",
    "print(logres_obj(X_train, y_train, beta))"
   ]
  },
  {
   "cell_type": "code",
   "execution_count": 7,
   "metadata": {},
   "outputs": [],
   "source": [
    "def finite_diff_grad(X, y, beta, h=0.00001):\n",
    "    \"\"\" \n",
    "    This function numerically evaluates the gradient of the objective function at beta\n",
    "    \"\"\" \n",
    "    p = len(beta)\n",
    "    grad = np.zeros(p)\n",
    "    \n",
    "    for i in range(p):\n",
    "        e = np.zeros_like(beta)\n",
    "        e[i] = h\n",
    "        \n",
    "        # evalute f(x+h)\n",
    "        f_beta_h1 = logres_obj(X, y, beta+e)\n",
    "        \n",
    "        # evaluate f(x - h)\n",
    "        f_beta_h2 = logres_obj(X, y, beta-e)\n",
    "        \n",
    "        grad[i] = (f_beta_h1 - f_beta_h2) / (2.0 * h)\n",
    "        \n",
    "    return grad"
   ]
  },
  {
   "cell_type": "code",
   "execution_count": 8,
   "metadata": {},
   "outputs": [
    {
     "name": "stdout",
     "output_type": "stream",
     "text": [
      "L2 distance= 3.07064411454443e-10\n"
     ]
    }
   ],
   "source": [
    "def logres_grad(X, y, beta):\n",
    "    \"\"\"\n",
    "    returns the gradient of logistic regression model\n",
    "    \n",
    "    Parameters:\n",
    "    ------------\n",
    "    X, y: numpy arrays representing the input dataset\n",
    "    beta: numpy array correspoinding to the parameter vector\n",
    "    \n",
    "    Output:\n",
    "    -------\n",
    "    grad: 1D numpy array\n",
    "    \"\"\"    \n",
    "    \n",
    "    z = (expit(y * np.dot(X, beta)) - 1) * y\n",
    "    grad = np.mean(z.reshape(-1, 1) * X, axis=0)    \n",
    "    \n",
    "    return grad \n",
    "\n",
    "\n",
    "# test code\n",
    "\"\"\"\n",
    "The outputs of two functions, logres_grad() and finite_diff_grad(), should be \n",
    "approximately the same.\n",
    "\"\"\"\n",
    "grad_analytic = logres_grad(X_train, y_train, beta)\n",
    "grad_numeric = finite_diff_grad(X_train, y_train, beta)\n",
    "\n",
    "print(\"L2 distance=\", np.linalg.norm(grad_analytic - grad_numeric))"
   ]
  },
  {
   "cell_type": "markdown",
   "metadata": {},
   "source": [
    "### Q2. (30 pts) Implment the Gradient Clipping\n",
    "Recall that the sensitivity of gradient computation can be bounded by applying the gradient clipping. Let $C$ be the clipping threshold.\n",
    "1. For each $\\mathbf{x}_i$ in a mini-batch $B$, compute its gradient. Let $\\mathbf{g}_i$ denote the gradient.\n",
    "2. Compute its $L_2$-norm, $\\|\\mathbf{g}_i\\|_2$\n",
    "3. (gradient clipping): $\\overline{\\mathbf{g}}_i = \\begin{cases}\n",
    "\\frac{C}{\\|\\mathbf{g}_i\\|_2}\\mathbf{g}_i & \\text{ if } \\|\\mathbf{g}\\|_2 > C \\,,\\\\\n",
    "\\mathbf{g}_i & \\text{ otherwise.}\n",
    "\\end{cases}$\n",
    "4. (noise injection step): $\\widetilde{\\mathbf{g}} = \\sum_{i} \\overline{\\mathbf{g}}_i + \\mathcal{N}(0, C\\sigma^2)$  \n",
    "5. (averaging): $\\widetilde{\\mathbf{g}} = \\widetilde{\\mathbf{g}} / |B|$   \n",
    "\n",
    "Implement `logres_clipped_grad()` function that computes the clipped gradient"
   ]
  },
  {
   "cell_type": "code",
   "execution_count": 9,
   "metadata": {},
   "outputs": [],
   "source": [
    "def logres_clipped_grad(X, y, beta, C, sigma):\n",
    "    \"\"\"\n",
    "    returns the gradient of logistic regression model\n",
    "              \n",
    "    Parameters:\n",
    "    ------------\n",
    "    X, y: numpy arrays representing the input dataset\n",
    "    beta: numpy array correspoinding to the parameter vector\n",
    "    C: scalar, clipping threshold, the gradient with L2-norm larger than this value will \n",
    "       be clipped to this value\n",
    "    \n",
    "    Output:m\n",
    "    -------\n",
    "    noisy_grad: 1D numpy array\n",
    "    \"\"\"\n",
    "    #---------------------------#\n",
    "    #    Your code goes here    #\n",
    "    #---------------------------#\n",
    "    \n",
    "#     g = logres_grad(X, y, beta)\n",
    "\n",
    "    total_g = np.zeros((X.shape[1]))\n",
    "    minibatch_x = X.to_numpy()\n",
    "    minibatch_y = y\n",
    "\n",
    "    for i in range(len(minibatch_x)):\n",
    "            \n",
    "        g = logres_grad(minibatch_x[i], minibatch_y[i], beta)\n",
    "        g_norm = np.linalg.norm(g)\n",
    "        if g_norm > C:\n",
    "            clipped_g = (g*C)/g_norm\n",
    "        else:\n",
    "            clipped_g = g\n",
    "        \n",
    "        total_g = np.add(total_g,clipped_g)\n",
    "    \n",
    "    noisy_grad = total_g + np.random.normal(0,(C*sigma*sigma),total_g.shape[0])\n",
    "    \n",
    "    noisy_grad = noisy_grad / X.shape[0]\n",
    "    \n",
    "    return noisy_grad\n",
    "    \n",
    "#     return clipped_g"
   ]
  },
  {
   "cell_type": "markdown",
   "metadata": {},
   "source": [
    "### Q3. (30 pts) Implement the stochastic gradient descent (SGD) algorithm.\n",
    "Using the two functions `logres_obj()` and `logres_clipped_grad()`, implement the stochastic gradient descent algorithm. The core of SGD algorithm is $$\\beta^{(k+1)}=\\beta^{(k)}-\\eta\\nabla f(\\beta^{(k)}, B)\\,,$$\n",
    "where $B$ denotes a mini-batch. Notice that the gradient evaluated over the examples in the mini-batch, rather than over the whole dataset.\n",
    "$$ \\nabla f(\\beta, B) = \\frac{1}{|B|}\\sum_{i \\in B} \\nabla \\ell(\\beta, (\\mathbf{x}_i, y_i))$$\n",
    "The notation $|B|$ denotes the size of mini-batch, i.e., the number of examples in $B$.\n",
    "1. Initialize the $\\beta^{(0)} = (0, 0, \\ldots, 0)^\\intercal$.\n",
    "2. While $k\\leq \\mathtt{max\\_iter}$:\n",
    "    - construct a mini-batch by randomly sampling $\\tau=|B|$ indices, i.e., $B\\subset \\{0, 1, \\ldots, n-1\\}$, where $n$ is the size of your training dataset.\n",
    "    - evaluate gradient at $\\beta^{(k)}$ using the mini-batch\n",
    "    - update parameter: $\\beta^{(k+1)} = \\beta^{(k)} - \\eta\\nabla f(\\beta^{(k)})$"
   ]
  },
  {
   "cell_type": "code",
   "execution_count": 10,
   "metadata": {},
   "outputs": [],
   "source": [
    "def dp_sgd(X, y, max_iter, C, sigma, batch_size):\n",
    "    \"\"\"\n",
    "    differentially private stochastic gradient descent algorithm\n",
    "    \n",
    "    Parameters:\n",
    "    ----------------\n",
    "    X, y: input dataset\n",
    "    max_iter: the number of iterations\n",
    "    C: clipping threshold\n",
    "    sigma: scale parameter of noise distribution\n",
    "    batch_size: the size of mini-batch\n",
    "                 \n",
    "    Returns:\n",
    "    -----------\n",
    "    sol_path : a list of solutions, the kth entry corresponds to the beta \n",
    "               at iteration k\n",
    "    obj_vals : a list of object values, the kth entry corresponds to the \n",
    "               objective value at iteration k               \n",
    "    \"\"\"\n",
    "    sol_path = []\n",
    "    obj_vals = []\n",
    "    eta = 0.01       # tune this value to get the best result\n",
    "    \n",
    "    n, p = X.shape    \n",
    "    \n",
    "    # initialize your parameter vector, beta, here\n",
    "    beta = np.zeros(p)\n",
    "    \n",
    "    for i in range(max_iter):\n",
    "        \n",
    "        #---------------------------#\n",
    "        #    Your code goes here    #\n",
    "        #---------------------------#\n",
    "\n",
    "        minibatch_X, Dummy1, minibatch_y, Dummy2 = train_test_split(X, y, train_size = batch_size)\n",
    "        beta = beta - (eta*logres_clipped_grad(minibatch_X, minibatch_y, beta, C, sigma))\n",
    "        obj_vals.append(logres_obj(minibatch_X, minibatch_y, beta))\n",
    "        sol_path.append(beta)\n",
    "        \n",
    "    return sol_path, obj_vals "
   ]
  },
  {
   "cell_type": "markdown",
   "metadata": {},
   "source": [
    "### Q4. (10 pts) Using the following prediction function, report the changes of accuracy and objective values over iterations.\n",
    "- Fix the clipping threshold $C$ to 4 and test different noise scales $\\sigma \\in \\{0.1, 1, 10, 50, 100\\}$\n",
    "- You can search the value of $\\sigma$ that approximately gives you the similar result with non-private algorithm\n",
    "- Plot the chanage of accuracy and objective values against the number of iterations for both training and test sets."
   ]
  },
  {
   "cell_type": "code",
   "execution_count": 11,
   "metadata": {},
   "outputs": [],
   "source": [
    "def predict(X, beta):\n",
    "    \"\"\"\n",
    "    predict the labels of observations in X\n",
    "    \n",
    "    Parameters:\n",
    "    ----------------\n",
    "    beta: coefficients\n",
    "    X: 2D numpy array, a set of observations, an example per row\n",
    "    \n",
    "    Returns:\n",
    "    y_hat: predicted labels    \n",
    "    \"\"\"\n",
    "\n",
    "    wx = np.dot(X , beta)\n",
    "    y_hat = np.ones(X.shape[0])\n",
    "    y_hat[wx < 0] = -1\n",
    "    \n",
    "    return y_hat"
   ]
  },
  {
   "cell_type": "code",
   "execution_count": 12,
   "metadata": {},
   "outputs": [
    {
     "data": {
      "text/plain": [
       "<matplotlib.legend.Legend at 0x1188672d0>"
      ]
     },
     "execution_count": 12,
     "metadata": {},
     "output_type": "execute_result"
    },
    {
     "data": {
      "image/png": "[encoded data removed]",
      "text/plain": [
       "<Figure size 432x288 with 1 Axes>"
      ]
     },
     "metadata": {
      "needs_background": "light"
     },
     "output_type": "display_data"
    }
   ],
   "source": [
    "#---------------------------#\n",
    "#    Your code goes here    #\n",
    "#---------------------------#\n",
    "\n",
    "## I got same curve with sigma = 0.1, 1 and 10.\n",
    "\n",
    "C = 4\n",
    "sigma = 0.1\n",
    "batch_size=400\n",
    "max_iter = 500\n",
    "sols, objs_train = dp_sgd(X_train, y_train, max_iter, C, sigma, batch_size)\n",
    "\n",
    "objs_test = []\n",
    "for i in range(max_iter):\n",
    "    objs_test.append(logres_obj(X_test, y_test, sols[i]))\n",
    "\n",
    "    \n",
    "x = np.linspace(1, max_iter, max_iter)\n",
    "plt.plot(x, objs_train, 'r-',label='Training')\n",
    "plt.plot(x, objs_test, 'b:',label='Testing')\n",
    "plt.xlabel('Iteration number')\n",
    "plt.ylabel('Objective value')\n",
    "plt.legend()"
   ]
  },
  {
   "cell_type": "code",
   "execution_count": 13,
   "metadata": {},
   "outputs": [
    {
     "data": {
      "text/plain": [
       "<matplotlib.legend.Legend at 0x1188677d0>"
      ]
     },
     "execution_count": 13,
     "metadata": {},
     "output_type": "execute_result"
    },
    {
     "data": {
      "image/png": "[encoded data removed]",
      "text/plain": [
       "<Figure size 432x288 with 1 Axes>"
      ]
     },
     "metadata": {
      "needs_background": "light"
     },
     "output_type": "display_data"
    }
   ],
   "source": [
    "# Accuracy plotting\n",
    "\n",
    "## The accuracy remains same for constant for 400 iterations and then increases. Mostly it remains in 70-75 range. \n",
    "\n",
    "def compute_accuracy(testX, testY, sols):\n",
    "    \"\"\"\n",
    "    returns the accuracy of each solution on the given dataset\n",
    "    \n",
    "    accuracy = percentage of correctly classified examples\n",
    "    \n",
    "    Parameters\n",
    "    -----------\n",
    "    testX, testY: input dataset\n",
    "    sols: a list of parameter vectors\n",
    "    \n",
    "    Returns\n",
    "    --------\n",
    "    acc: a list of accuracies, each element corresponds to the accuracy of each solution in sols\n",
    "    \"\"\"\n",
    "    acc = []\n",
    "    \n",
    "    n_examples = len(testY)\n",
    "    \n",
    "    for sol in sols:  \n",
    "        pred = predict(testX, sol)\n",
    "        n_correct = n_examples - np.count_nonzero(testY - pred)\n",
    "        acc.append((n_correct*100.0)/n_examples)\n",
    "        \n",
    "    return acc\n",
    "\n",
    "train_accs = compute_accuracy(X_train, y_train, sols)\n",
    "test_accs = compute_accuracy(X_test, y_test, sols)\n",
    "\n",
    "x = np.linspace(1, max_iter, max_iter)\n",
    "plt.plot(x, train_accs, 'r-',label='Training')\n",
    "plt.plot(x, test_accs, 'b:',label='Testing')\n",
    "plt.xlabel('Iteration number')\n",
    "plt.ylabel('Accuracy percentage')\n",
    "plt.legend()\n",
    "# print(sols[len(sols)-1],sols[0])"
   ]
  },
  {
   "cell_type": "markdown",
   "metadata": {},
   "source": [
    "\n",
    "### Q5. (10 pts) Show the effect of clipping threshold on the accuracy.\n",
    "- Fix the noise level $\\sigma$ to the value you found in Q4.\n",
    "- Increase the value of $C$, say $[C, 2C, 4C, 5C]$. You can freely choose both the value of $C$ and the method with which you increase the value of $C$ to provide a best plot showing their relationship. Here, our goal is to show the impact of $C$ on the accuracy."
   ]
  },
  {
   "cell_type": "code",
   "execution_count": 14,
   "metadata": {},
   "outputs": [
    {
     "data": {
      "text/plain": [
       "<matplotlib.legend.Legend at 0x118aaa8d0>"
      ]
     },
     "execution_count": 14,
     "metadata": {},
     "output_type": "execute_result"
    },
    {
     "data": {
      "image/png": "[encoded data removed]",
      "text/plain": [
       "<Figure size 432x288 with 1 Axes>"
      ]
     },
     "metadata": {
      "needs_background": "light"
     },
     "output_type": "display_data"
    }
   ],
   "source": [
    "#---------------------------#\n",
    "#    Your code goes here    #\n",
    "#---------------------------#\n",
    "\n",
    "## I get different results every time I run this. Most of the time C or 4C gives the best accuracy. \n",
    "\n",
    "C=4\n",
    "sigma = 0.1\n",
    "batch_size=200\n",
    "max_iter = 500\n",
    "accuracies = []\n",
    "\n",
    "\n",
    "for i in range(1,6):\n",
    "    threshold = i*C\n",
    "    sols, objs = dp_sgd(X_train, y_train, max_iter, threshold, sigma, batch_size)  \n",
    "    accuracies.append(compute_accuracy(X_train, y_train, sols))\n",
    "    \n",
    "x = np.linspace(1, max_iter, max_iter)\n",
    "plt.plot(x, accuracies[0], label='C')\n",
    "plt.plot(x, accuracies[1], label='2C')\n",
    "plt.plot(x, accuracies[2], label='3C')\n",
    "plt.plot(x, accuracies[3], label='4C')\n",
    "plt.plot(x, accuracies[4], label='5C')\n",
    "plt.xlabel('Iteration number')\n",
    "plt.ylabel('Accuracy percentage')\n",
    "plt.legend()\n"
   ]
  },
  {
   "cell_type": "code",
   "execution_count": null,
   "metadata": {},
   "outputs": [],
   "source": []
  },
  {
   "cell_type": "markdown",
   "metadata": {},
   "source": [
    "### OBSERVATIONS\n",
    "\n",
    "- As evident from the graph, i get best results of accuracy for sigma = 1\n",
    "- As evident from the second graph, i get best and consistent results for accuracy for C -> 4C = 16\n"
   ]
  },
  {
   "cell_type": "markdown",
   "metadata": {},
   "source": [
    "### Q6. (10 pts) Show the effect of batch size on the accuracy\n",
    "- Fix the noise level $\\sigma$, $C$, and max\\_iter (again, the choice of best value is up to you)\n",
    "- Try the following batch_size $|B| \\in \\{1, 32, 64, 128\\}$\n",
    "- Plot the change of accuracy agains the iterations .\n",
    "- You will have 4 different lines in your plot, each of which corresponds to a distinct batch size."
   ]
  },
  {
   "cell_type": "code",
   "execution_count": 17,
   "metadata": {},
   "outputs": [
    {
     "data": {
      "text/plain": [
       "<matplotlib.legend.Legend at 0x118d95f50>"
      ]
     },
     "execution_count": 17,
     "metadata": {},
     "output_type": "execute_result"
    },
    {
     "data": {
      "image/png": "[encoded data removed]",
      "text/plain": [
       "<Figure size 432x288 with 1 Axes>"
      ]
     },
     "metadata": {
      "needs_background": "light"
     },
     "output_type": "display_data"
    }
   ],
   "source": [
    "#---------------------------#\n",
    "#    Your code goes here    #\n",
    "#---------------------------#\n",
    "\n",
    "## Here I am keeping the value of sigma to 10, to show the effect of batch size. \n",
    "## In most cases, the batch size of 128 gives best accuracy where as batch size of 1 gives the worst result\n",
    "## But sometimes the result might be different. Mostly 128 and 64 does better than 32 and 1.\n",
    "\n",
    "## When I set sigma to 0.1 or 1, I get same accuracy for all batch sizes (straight line) except for batch size of 1.\n",
    "## For batch size of 1 with sigma = 0.1, it increases from very low accuracy and\n",
    "## eventually increases and merges with the other lines around (73)\n",
    "\n",
    "sigma = 10\n",
    "C = 4\n",
    "max_iter = 500\n",
    "batch_size = [ 1, 32, 64, 128]\n",
    "\n",
    "accuracies = []\n",
    "\n",
    "for i in batch_size:\n",
    "    sols, objs = dp_sgd(X_train, y_train, max_iter, C, sigma, i)  \n",
    "    accuracies.append(compute_accuracy(X_train, y_train, sols))\n",
    "\n",
    "x = np.linspace(1, max_iter, max_iter)\n",
    "plt.plot(x, accuracies[0], label='1')\n",
    "plt.plot(x, accuracies[1], label='32')\n",
    "plt.plot(x, accuracies[2], label='64')\n",
    "plt.plot(x, accuracies[3], label='128')\n",
    "plt.xlabel('Iteration number')\n",
    "plt.ylabel('Accuracy percentage')\n",
    "plt.legend()"
   ]
  },
  {
   "cell_type": "markdown",
   "metadata": {},
   "source": [
    "### Observation based on the graphs above\n",
    "- I get pretty good performance on sigma=1 in the first graph.\n",
    "- I get pretty good results for C = 4C(C=16) in the second graph.\n",
    "- Finally, for the third graph, I choose sigma=1 and C=16; with the final graph giving best resuls for batchsize=128\n",
    "\n",
    "#### **NOTE  : The optimal values keep changing everytime i run the code.**"
   ]
  },
  {
   "cell_type": "code",
   "execution_count": null,
   "metadata": {},
   "outputs": [],
   "source": []
  }
 ],
 "metadata": {
  "kernelspec": {
   "display_name": "Python 3",
   "language": "python",
   "name": "python3"
  },
  "language_info": {
   "codemirror_mode": {
    "name": "ipython",
    "version": 3
   },
   "file_extension": ".py",
   "mimetype": "text/x-python",
   "name": "python",
   "nbconvert_exporter": "python",
   "pygments_lexer": "ipython3",
   "version": "3.7.6"
  }
 },
 "nbformat": 4,
 "nbformat_minor": 4
}
